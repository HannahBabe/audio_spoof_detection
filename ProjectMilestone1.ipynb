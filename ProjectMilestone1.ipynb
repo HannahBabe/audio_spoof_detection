{
  "nbformat": 4,
  "nbformat_minor": 0,
  "metadata": {
    "colab": {
      "name": "ProjectMilestone1.ipynb",
      "provenance": [],
      "authorship_tag": "ABX9TyNllxA4CSejmXVFaglXMMi4",
      "include_colab_link": true
    },
    "kernelspec": {
      "name": "python3",
      "display_name": "Python 3"
    },
    "language_info": {
      "name": "python"
    }
  },
  "cells": [
    {
      "cell_type": "markdown",
      "metadata": {
        "id": "view-in-github",
        "colab_type": "text"
      },
      "source": [
        "<a href=\"https://colab.research.google.com/github/HannahBabe/audio_spoof_detection/blob/main/ProjectMilestone1.ipynb\" target=\"_parent\"><img src=\"https://colab.research.google.com/assets/colab-badge.svg\" alt=\"Open In Colab\"/></a>"
      ]
    },
    {
      "cell_type": "code",
      "execution_count": 1,
      "metadata": {
        "colab": {
          "base_uri": "https://localhost:8080/"
        },
        "id": "Q2uEO4Gj1zgp",
        "outputId": "4587e33a-cb0e-47b7-92b5-4f0c626e4006"
      },
      "outputs": [
        {
          "output_type": "stream",
          "name": "stdout",
          "text": [
            "Mounted at /content/drive\n"
          ]
        }
      ],
      "source": [
        "from google.colab import drive\n",
        "drive.mount('/content/drive')"
      ]
    },
    {
      "cell_type": "code",
      "source": [
        "!pip install -r requirements.txt"
      ],
      "metadata": {
        "id": "PatYGWA82CvV"
      },
      "execution_count": null,
      "outputs": []
    },
    {
      "cell_type": "code",
      "source": [
        "!python ./aasist/download_dataset.py"
      ],
      "metadata": {
        "id": "E-SuD_zy2E2r"
      },
      "execution_count": null,
      "outputs": []
    },
    {
      "cell_type": "code",
      "source": [
        "!pip install tensorflow-io"
      ],
      "metadata": {
        "id": "tpNeqKTY2HJK"
      },
      "execution_count": null,
      "outputs": []
    },
    {
      "cell_type": "code",
      "source": [
        "import tensorflow as tf\n",
        "import tensorflow_io as tfio\n",
        "import matplotlib.pyplot as plt\n",
        "import os"
      ],
      "metadata": {
        "id": "ZKBp_xJk2I10"
      },
      "execution_count": null,
      "outputs": []
    },
    {
      "cell_type": "code",
      "source": [
        "local_download_path = os.path.expanduser('/content/drive/MyDrive/Github/SASVC2022_Baseline/LA/ASVspoof2019_LA_train/flac')\n",
        "x_train=[]\n",
        "for filename in os.listdir(local_download_path):\n",
        "    if filename.endswith(\"flac\"): \n",
        "      audio = tfio.audio.AudioIOTensor(filename)[100:]\n",
        "      # remove last dimension\n",
        "      audio_tensor = tf.squeeze(audio, axis=[-1])\n",
        "      tensor = tf.cast(audio_tensor, tf.float32) / 32768.0\n",
        "      position = tfio.audio.trim(tensor, axis=0, epsilon=0.1)\n",
        "      processed = tensor[position[0]:position[1]]\n",
        "      fade = tfio.audio.fade(processed, fade_in=1000, fade_out=2000, mode=\"logarithmic\")\n",
        "      # Convert to db scale mel-spectrogram\n",
        "      dbscale_mel_spectrogram = tfio.audio.dbscale(fade, top_db=80)\n",
        "      x_train.append([filename, dbscale_mel_spectrogram])\n",
        "      print(dbscale_mel_spectrogram)"
      ],
      "metadata": {
        "id": "gY2gx_d52Kre"
      },
      "execution_count": null,
      "outputs": []
    },
    {
      "cell_type": "code",
      "source": [
        "local_download_path = os.path.expanduser('/content/drive/MyDrive/Github/SASVC2022_Baseline/LA/ASVspoof2019_LA_eval/flac')\n",
        "x_eval=[]\n",
        "for filename in os.listdir(local_download_path):\n",
        "    if filename.endswith(\"flac\"): \n",
        "      audio = tfio.audio.AudioIOTensor(filename)[100:]\n",
        "      # remove last dimension\n",
        "      audio_tensor = tf.squeeze(audio, axis=[-1])\n",
        "      tensor = tf.cast(audio_tensor, tf.float32) / 32768.0\n",
        "      position = tfio.audio.trim(tensor, axis=0, epsilon=0.1)\n",
        "      processed = tensor[position[0]:position[1]]\n",
        "      fade = tfio.audio.fade(processed, fade_in=1000, fade_out=2000, mode=\"logarithmic\")\n",
        "      # Convert to db scale mel-spectrogram\n",
        "      dbscale_mel_spectrogram = tfio.audio.dbscale(fade, top_db=80)\n",
        "      x_eval.append([filename,dbscale_mel_spectrogram])\n",
        "      print(dbscale_mel_spectrogram)"
      ],
      "metadata": {
        "id": "QbMS_fPg2RQQ"
      },
      "execution_count": null,
      "outputs": []
    },
    {
      "cell_type": "code",
      "source": [
        "ASVspoof2019_LA_train = '/content/drive/MyDrive/Github/SASVC2022_Baseline/LA/ASVspoof2019_LA_cm_protocols/ASVspoof2019.LA.cm.train.trn.txt'\n",
        "y_train =[]\n",
        "for line in ASVspoof2019_LA_train:\n",
        "  y_train.append(line)"
      ],
      "metadata": {
        "id": "w-rtBrtH2Ntp"
      },
      "execution_count": null,
      "outputs": []
    },
    {
      "cell_type": "code",
      "source": [
        "y_eval = []\n",
        "ASVspoof2019_LA_eval = '/content/drive/MyDrive/Github/SASVC2022_Baseline/LA/ASVspoof2019_LA_cm_protocols/ASVspoof2019.LA.cm.eval.trl.txt'\n",
        "for line in ASVspoof2019_LA_eval:\n",
        "  y_eval.append(line)"
      ],
      "metadata": {
        "id": "lKDItQwO2PR6"
      },
      "execution_count": null,
      "outputs": []
    }
  ]
}